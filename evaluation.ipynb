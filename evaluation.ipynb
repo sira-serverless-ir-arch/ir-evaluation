{
 "cells": [
  {
   "attachments": {},
   "cell_type": "markdown",
   "metadata": {
    "pycharm": {
     "name": "#%% md\n"
    }
   },
   "source": [
    "## Install dependencies"
   ]
  },
  {
   "cell_type": "code",
   "execution_count": null,
   "metadata": {
    "pycharm": {
     "name": "#%%\n"
    }
   },
   "outputs": [],
   "source": [
    "%pip install numpy cython\n",
    "%pip install wheel\n",
    "%pip install ir_datasets\n",
    "%pip install scikit-learn\n",
    "%pip install nltk\n",
    "%pip install requests\n",
    "%pip install matplotlib\n",
    "%pip install pandas"
   ]
  },
  {
   "attachments": {},
   "cell_type": "markdown",
   "metadata": {
    "pycharm": {
     "name": "#%% md\n"
    }
   },
   "source": [
    "# GERAR MÉTRICAS PARA AVALIAÇÃO"
   ]
  },
  {
   "cell_type": "markdown",
   "source": [
    "## Indexa documentos"
   ],
   "metadata": {
    "collapsed": false,
    "pycharm": {
     "name": "#%% md\n"
    }
   }
  },
  {
   "cell_type": "code",
   "execution_count": 1,
   "outputs": [
    {
     "name": "stderr",
     "output_type": "stream",
     "text": [
      "/Users/thiagoluizrodrigues/PycharmProjects/irmetrics/venv/lib/python3.9/site-packages/urllib3/__init__.py:34: NotOpenSSLWarning: urllib3 v2.0 only supports OpenSSL 1.1.1+, currently the 'ssl' module is compiled with 'LibreSSL 2.8.3'. See: https://github.com/urllib3/urllib3/issues/3020\n",
      "  warnings.warn(\n"
     ]
    },
    {
     "name": "stdout",
     "output_type": "stream",
     "text": [
      "Id: 1  Text: what is the origin of COVID-19\n"
     ]
    },
    {
     "ename": "TypeError",
     "evalue": "unhashable type: 'dict'",
     "output_type": "error",
     "traceback": [
      "\u001B[0;31m---------------------------------------------------------------------------\u001B[0m",
      "\u001B[0;31mTypeError\u001B[0m                                 Traceback (most recent call last)",
      "Cell \u001B[0;32mIn[1], line 8\u001B[0m\n\u001B[1;32m      6\u001B[0m els \u001B[38;5;241m=\u001B[39m InformationRetrievalTest(collection_name\u001B[38;5;241m=\u001B[39mCollection\u001B[38;5;241m.\u001B[39mTrec_covid, arch\u001B[38;5;241m=\u001B[39mArch\u001B[38;5;241m.\u001B[39mELS)\n\u001B[1;32m      7\u001B[0m \u001B[38;5;66;03m# els.index_documents(url=\"http://127.0.0.1:9200/\")\u001B[39;00m\n\u001B[0;32m----> 8\u001B[0m \u001B[43mels\u001B[49m\u001B[38;5;241;43m.\u001B[39;49m\u001B[43mretrival_documents\u001B[49m\u001B[43m(\u001B[49m\u001B[43m)\u001B[49m\n",
      "File \u001B[0;32m~/PycharmProjects/irmetrics/datasets/informationretrievaltest.py:66\u001B[0m, in \u001B[0;36mInformationRetrievalTest.retrival_documents\u001B[0;34m(self)\u001B[0m\n\u001B[1;32m     60\u001B[0m         \u001B[38;5;28mself\u001B[39m\u001B[38;5;241m.\u001B[39msearch_results\u001B[38;5;241m.\u001B[39mappend({\n\u001B[1;32m     61\u001B[0m             \u001B[38;5;124m\"\u001B[39m\u001B[38;5;124mid\u001B[39m\u001B[38;5;124m\"\u001B[39m: query\u001B[38;5;241m.\u001B[39mid,\n\u001B[1;32m     62\u001B[0m             \u001B[38;5;124m\"\u001B[39m\u001B[38;5;124mdocuments\u001B[39m\u001B[38;5;124m\"\u001B[39m: documents\n\u001B[1;32m     63\u001B[0m         })\n\u001B[1;32m     65\u001B[0m \u001B[38;5;28;01melif\u001B[39;00m \u001B[38;5;28mself\u001B[39m\u001B[38;5;241m.\u001B[39march \u001B[38;5;241m==\u001B[39m Arch\u001B[38;5;241m.\u001B[39mELS:\n\u001B[0;32m---> 66\u001B[0m     response \u001B[38;5;241m=\u001B[39m requests\u001B[38;5;241m.\u001B[39mget(\u001B[38;5;124m\"\u001B[39m\u001B[38;5;124mhttp://127.0.0.1:9200/\u001B[39m\u001B[38;5;124m\"\u001B[39m \u001B[38;5;241m+\u001B[39m \u001B[38;5;28mself\u001B[39m\u001B[38;5;241m.\u001B[39mcollection_name \u001B[38;5;241m+\u001B[39m \u001B[38;5;124m\"\u001B[39m\u001B[38;5;124m/_doc/_search\u001B[39m\u001B[38;5;124m\"\u001B[39m, json\u001B[38;5;241m=\u001B[39m{\n\u001B[1;32m     67\u001B[0m         {\n\u001B[1;32m     68\u001B[0m             \u001B[38;5;124m\"\u001B[39m\u001B[38;5;124mquery\u001B[39m\u001B[38;5;124m\"\u001B[39m: {\n\u001B[1;32m     69\u001B[0m                 \u001B[38;5;124m\"\u001B[39m\u001B[38;5;124mbool\u001B[39m\u001B[38;5;124m\"\u001B[39m: {\n\u001B[1;32m     70\u001B[0m                     \u001B[38;5;124m\"\u001B[39m\u001B[38;5;124mmust\u001B[39m\u001B[38;5;124m\"\u001B[39m: [\n\u001B[1;32m     71\u001B[0m                         {\u001B[38;5;124m\"\u001B[39m\u001B[38;5;124mmatch\u001B[39m\u001B[38;5;124m\"\u001B[39m: {\u001B[38;5;124m\"\u001B[39m\u001B[38;5;124mtitle\u001B[39m\u001B[38;5;124m\"\u001B[39m: query\u001B[38;5;241m.\u001B[39mtext}},\n\u001B[1;32m     72\u001B[0m                         {\u001B[38;5;124m\"\u001B[39m\u001B[38;5;124mmatch\u001B[39m\u001B[38;5;124m\"\u001B[39m: {\u001B[38;5;124m\"\u001B[39m\u001B[38;5;124mtext\u001B[39m\u001B[38;5;124m\"\u001B[39m: query\u001B[38;5;241m.\u001B[39mtext}}\n\u001B[1;32m     73\u001B[0m                     ]\n\u001B[1;32m     74\u001B[0m                 }\n\u001B[1;32m     75\u001B[0m             }\n\u001B[1;32m     76\u001B[0m         }\n\u001B[1;32m     77\u001B[0m     })\n\u001B[1;32m     79\u001B[0m     \u001B[38;5;28;01mif\u001B[39;00m response\u001B[38;5;241m.\u001B[39mstatus_code \u001B[38;5;241m!=\u001B[39m \u001B[38;5;241m200\u001B[39m:\n\u001B[1;32m     80\u001B[0m         \u001B[38;5;28;01mraise\u001B[39;00m \u001B[38;5;167;01mException\u001B[39;00m(response\u001B[38;5;241m.\u001B[39mtext)\n",
      "\u001B[0;31mTypeError\u001B[0m: unhashable type: 'dict'"
     ]
    }
   ],
   "source": [
    "from datasets.informationretrievaltest import InformationRetrievalTest, Collection, Arch\n",
    "\n",
    "# sira = InformationRetrievalTest(collection_name=Collection.Trec_covid, arch=Arch.SIRA)\n",
    "# sira.index_documents(url=\"http://127.0.0.1:8080/nir\")\n",
    "\n",
    "els = InformationRetrievalTest(collection_name=Collection.Trec_covid, arch=Arch.ELS)\n",
    "# els.index_documents(url=\"http://127.0.0.1:9200/\")\n",
    "els.retrival_documents()"
   ],
   "metadata": {
    "collapsed": false,
    "pycharm": {
     "name": "#%%\n"
    }
   }
  }
 ],
 "metadata": {
  "kernelspec": {
   "display_name": "Python 3",
   "language": "python",
   "name": "python3"
  },
  "language_info": {
   "codemirror_mode": {
    "name": "ipython",
    "version": 3
   },
   "file_extension": ".py",
   "mimetype": "text/x-python",
   "name": "python",
   "nbconvert_exporter": "python",
   "pygments_lexer": "ipython3",
   "version": "3.10.8"
  },
  "orig_nbformat": 4
 },
 "nbformat": 4,
 "nbformat_minor": 2
}